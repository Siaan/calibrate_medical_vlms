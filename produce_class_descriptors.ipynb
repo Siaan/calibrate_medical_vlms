{
  "nbformat": 4,
  "nbformat_minor": 0,
  "metadata": {
    "colab": {
      "provenance": []
    },
    "kernelspec": {
      "name": "python3",
      "display_name": "Python 3"
    },
    "language_info": {
      "name": "python"
    }
  },
  "cells": [
    {
      "cell_type": "code",
      "source": [
        "from google.colab import drive\n",
        "\n",
        "drive.mount(\"/content/drive\")"
      ],
      "metadata": {
        "colab": {
          "base_uri": "https://localhost:8080/"
        },
        "id": "pWMrVpY5oajh",
        "outputId": "13386548-edfd-4661-ef5b-b7725dfc79f1"
      },
      "execution_count": null,
      "outputs": [
        {
          "output_type": "stream",
          "name": "stdout",
          "text": [
            "Mounted at /content/drive\n"
          ]
        }
      ]
    },
    {
      "cell_type": "code",
      "source": [
        "import os\n",
        "import requests\n",
        "import pandas as pd"
      ],
      "metadata": {
        "id": "iftCjDvDob_d"
      },
      "execution_count": null,
      "outputs": []
    },
    {
      "cell_type": "code",
      "execution_count": null,
      "metadata": {
        "id": "E5GQk_kwbHPJ"
      },
      "outputs": [],
      "source": [
        "def call_openai_chat_api(prompt, n=1, model=\"gpt-4\", api_key=[API_KEY]):\n",
        "    url = \"https://api.openai.com/v1/chat/completions\"\n",
        "    headers = {\n",
        "        \"Content-Type\": \"application/json\",\n",
        "        \"Authorization\": f\"Bearer {api_key}\"\n",
        "    }\n",
        "    payload = {\n",
        "        \"model\": model,\n",
        "        \"n\": n,\n",
        "        \"messages\": [\n",
        "            {\"role\": \"system\", \"content\": \"You are a helpful assistant.\"},\n",
        "            {\"role\": \"user\", \"content\": prompt}\n",
        "        ]\n",
        "    }\n",
        "\n",
        "    response = requests.post(url, headers=headers, json=payload)\n",
        "    return response.json()\n"
      ]
    },
    {
      "cell_type": "code",
      "source": [
        "all_dataset_class_labels = {\n",
        "    \"pcam\": [\n",
        "        \"lymph node\",\n",
        "        \"lymph node containing metastatic tumor tissue\"\n",
        "    ],\n",
        "    \"nck\": [\"adipose\",\n",
        "            \"debris\",\n",
        "            \"lymphocytes\",\n",
        "            \"mucus\",\n",
        "            \"smooth muscle\",\n",
        "            \"normal colon mucosa\",\n",
        "            \"cancer-associated stroma\",\n",
        "            \"colorectal adenocarcinoma epithelium\"\n",
        "    ],\n",
        "    \"lc25000_lung\": [\"benign lung\",\n",
        "                     \"lung adenocarcinoma\",\n",
        "                     \"lung squamous cell carcinoma\"\n",
        "    ],\n",
        "    \"lc25000_colon\": [\"colon adenocarcinoma\",\n",
        "                      \"benign colonic tissue\"\n",
        "    ],\n",
        "    \"mhist\": [\"hyperplastic polyp\",\n",
        "              \"sessile serrated adenoma\"\n",
        "    ],\n",
        "    \"sicap\": [\"benign glands\",\n",
        "        \"atrophic dense glands\",\n",
        "        \"cribriform ill-formed fused papillary patterns\",\n",
        "        \"isolated nest cells without lumen roseting patterns\"\n",
        "    ],\n",
        "    \"idc_grade\": [\"well differentiated bloom richardson grade one\",\n",
        "                \"moderately differentiated bloom richardson grade two\",\n",
        "                \"poorly differentiated grade three\"\n",
        "    ],\n",
        "    \"osteo\": [\"non-tumor\",\n",
        "        \"non-viable necrotic osteosarcoma tumor\",\n",
        "        \"viable osteosarcoma tumor\"\n",
        "    ],\n",
        "    \"bach\": [\"breast non-malignant benign tissue\",\n",
        "            \"breast malignant in-situ carcinoma\",\n",
        "            \"breast malignant invasive carcinoma\",\n",
        "            \"breast normal breast tissue\"],\n",
        "    \"renal_cell\": [\"red blood cells\",\n",
        "                     \"renal cancer\",\n",
        "                     \"normal renal tissue\",\n",
        "                     \"torn adipose necrotic tissue\",\n",
        "                     \"muscle fibrous stroma blood vessels\"\n",
        "    ],\n",
        "    \"skin\": [\"necrosis\",\n",
        "        \"skeletal muscle\",\n",
        "        \"eccrine sweat glands\",\n",
        "        \"vessels\",\n",
        "        \"elastosis\",\n",
        "        \"chondral tissue\",\n",
        "        \"hair follicle\",\n",
        "        \"epidermis\",\n",
        "        \"nerves\",\n",
        "        \"subcutis\",\n",
        "        \"dermis\",\n",
        "        \"sebaceous glands\",\n",
        "        \"squamous-cell carcinoma\",\n",
        "        \"melanoma in-situ\",\n",
        "        \"basal-cell carcinoma\",\n",
        "        \"naevus\"\n",
        "    ],\n",
        "    \"skin_tumor\": [\n",
        "        \"squamous-cell carcinoma\",\n",
        "        \"melanoma in-situ\",\n",
        "        \"basal-cell carcinoma\",\n",
        "        \"naevus\"\n",
        "    ]\n",
        "}"
      ],
      "metadata": {
        "id": "1by7MbWxbJkn"
      },
      "execution_count": null,
      "outputs": []
    },
    {
      "cell_type": "code",
      "source": [
        "response = None\n",
        "desc_type = \"feature\"\n",
        "\n",
        "for dataset, class_labels in all_dataset_class_labels.items():\n",
        "\n",
        "    print(dataset, class_labels)\n",
        "    save_path = \"drive/MyDrive/CV2_project/code/med_vlm_cal/descriptors/{}/{}.csv\".format(desc_type, dataset)\n",
        "    print(save_path)\n",
        "\n",
        "    rows = []\n",
        "    for idx, label in enumerate(class_labels):\n",
        "\n",
        "        if desc_type == \"sentence\":\n",
        "            prompt = \"Give a 1 sentence, detailed but generic caption for a histopathological image showing {}.\".format(label)\n",
        "        elif desc_type == \"feature\":\n",
        "            prompt = \"Give a list of 5-6 short (1-3 word) descriptions of features you would expect to see in a histopathological image showing {}.\".format(label)\n",
        "        else:\n",
        "            raise ValueError\n",
        "\n",
        "        print(prompt)\n",
        "        response = call_openai_chat_api(prompt)\n",
        "        row = [idx, dataset, label, response]\n",
        "        rows.append(row)\n",
        "\n",
        "    df = pd.DataFrame(rows, columns=[\"label_index\", \"dataset\", \"label\", \"response\"])\n",
        "    display(df)\n",
        "    df.to_csv(save_path, index=False)\n",
        "\n",
        "    print(\"---------------------------\")\n"
      ],
      "metadata": {
        "id": "qB--8aO24uzW"
      },
      "execution_count": null,
      "outputs": []
    },
    {
      "cell_type": "code",
      "source": [
        "for dataset, class_labels in all_dataset_class_labels.items():\n",
        "\n",
        "    save_path = \"drive/MyDrive/CV2_project/code/med_vlm_cal/descriptors/feature/{}.csv\".format(dataset)\n",
        "    df = pd.read_csv(save_path)\n",
        "\n",
        "\n",
        "    print(dataset)\n",
        "    for label in class_labels:\n",
        "        row = df[df[\"label\"] == label].iloc[0]\n",
        "        response = eval(row[\"response\"])\n",
        "        c = response[\"choices\"][0][\"message\"][\"content\"].strip()\n",
        "        texts = [t.split(\". \")[1].strip(\".\") for t in c.split(\"\\n\")]\n",
        "        print(label, texts)\n",
        "    print(\"---------------\")"
      ],
      "metadata": {
        "id": "R4lwkDbO4wjW"
      },
      "execution_count": null,
      "outputs": []
    },
    {
      "cell_type": "code",
      "source": [],
      "metadata": {
        "id": "abxb4mg3bJ3B"
      },
      "execution_count": null,
      "outputs": []
    }
  ]
}